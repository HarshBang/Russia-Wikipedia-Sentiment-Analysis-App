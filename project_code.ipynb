{
 "cells": [
  {
   "cell_type": "code",
   "execution_count": 1,
   "id": "f4aee3f5-ed74-4124-8695-465119f3405d",
   "metadata": {},
   "outputs": [],
   "source": [
    "import nltk\n",
    "import pandas as pd\n",
    "import numpy as np\n",
    "import matplotlib.pyplot as plt\n",
    "%matplotlib inline\n",
    "import re\n",
    "import requests"
   ]
  },
  {
   "cell_type": "code",
   "execution_count": 2,
   "id": "1e9bd98b-c8ef-4672-a3c6-2714ac002fcc",
   "metadata": {},
   "outputs": [],
   "source": [
    "Russiawiki=requests.get(\"https://en.wikipedia.org/wiki/Russia\")"
   ]
  },
  {
   "cell_type": "code",
   "execution_count": 3,
   "id": "9a30660b-c005-4631-a8c3-c8cfdeda5d32",
   "metadata": {},
   "outputs": [],
   "source": [
    "from bs4 import BeautifulSoup\n",
    "RussiaDf = BeautifulSoup(Russiawiki.content, \"lxml\")"
   ]
  },
  {
   "cell_type": "code",
   "execution_count": 4,
   "id": "f099d6c5-112c-457a-89d6-7733b35b45f2",
   "metadata": {},
   "outputs": [],
   "source": [
    "RussiaText = RussiaDf.getText(strip=True)"
   ]
  },
  {
   "cell_type": "code",
   "execution_count": 5,
   "id": "24938ff4-7704-466d-99b6-7b0108dc32b7",
   "metadata": {},
   "outputs": [],
   "source": [
    "for oprn in [r'\\[\\d+\\]', r'\\(\\d+\\)', r'\\(\\w+\\)', r'\\[\\w+\\]', r'[0-9]+', \"\\xa0°C\"]:\n",
    "    RussiaText = re.sub(oprn, \" \", RussiaText)"
   ]
  },
  {
   "cell_type": "code",
   "execution_count": 6,
   "id": "72b722b0-ae58-4ca6-abe5-fa4254eac5c4",
   "metadata": {},
   "outputs": [],
   "source": [
    "from nltk.tokenize import sent_tokenize"
   ]
  },
  {
   "cell_type": "code",
   "execution_count": 7,
   "id": "439cd22f-6168-4c01-adbb-2ae85c6475c8",
   "metadata": {},
   "outputs": [],
   "source": [
    "RussiaSentances = sent_tokenize(RussiaText)"
   ]
  },
  {
   "cell_type": "code",
   "execution_count": 8,
   "id": "30c2bcab-36d2-485f-8bb7-d379e5297d2a",
   "metadata": {},
   "outputs": [],
   "source": [
    "RussiaSentences = pd.DataFrame(RussiaSentances, columns=['sentence'])"
   ]
  },
  {
   "cell_type": "code",
   "execution_count": 9,
   "id": "57a89016-d566-4f41-9a01-6f4c5d55e70c",
   "metadata": {},
   "outputs": [],
   "source": [
    "from textblob import TextBlob\n",
    "s1 = TextBlob(\"The English name Russia first appeared in the 14th century, borrowed from Medieval Latin\")"
   ]
  },
  {
   "cell_type": "code",
   "execution_count": 10,
   "id": "346fdc74-2500-44af-9aba-a56501188544",
   "metadata": {},
   "outputs": [
    {
     "data": {
      "text/plain": [
       "Sentiment(polarity=0.08333333333333333, subjectivity=0.1111111111111111)"
      ]
     },
     "execution_count": 10,
     "metadata": {},
     "output_type": "execute_result"
    }
   ],
   "source": [
    "s1.sentiment"
   ]
  },
  {
   "cell_type": "code",
   "execution_count": 11,
   "id": "a91987c4-9de4-4079-92aa-cae7e915d856",
   "metadata": {},
   "outputs": [],
   "source": [
    "def analyze_sentiment(text):\n",
    "    analysis = TextBlob(text)\n",
    "    if analysis.sentiment.polarity>0:\n",
    "        return \"Positive\"\n",
    "    elif analysis.sentiment.polarity==0:\n",
    "        return \"Neutral\"\n",
    "    else:\n",
    "        return \"Negative\""
   ]
  },
  {
   "cell_type": "code",
   "execution_count": 12,
   "id": "f93f20a6-d0e8-4910-9f5d-9aad9f51b7c6",
   "metadata": {},
   "outputs": [],
   "source": [
    "RussiaSentences['sentiment'] = [str(analyze_sentiment(x)) for x in RussiaSentences.sentence]"
   ]
  },
  {
   "cell_type": "code",
   "execution_count": 13,
   "id": "9776b44c-1db8-4a86-b8a8-bf0d0e2706d4",
   "metadata": {},
   "outputs": [
    {
     "data": {
      "text/plain": [
       "sentiment\n",
       "Neutral     1954\n",
       "Positive     619\n",
       "Negative     190\n",
       "Name: count, dtype: int64"
      ]
     },
     "execution_count": 13,
     "metadata": {},
     "output_type": "execute_result"
    }
   ],
   "source": [
    "RussiaSentences['sentiment'].value_counts()"
   ]
  },
  {
   "cell_type": "code",
   "execution_count": 14,
   "id": "9b360ccf-ef28-4135-8191-fe78160a6408",
   "metadata": {},
   "outputs": [],
   "source": [
    "from nltk.tokenize import word_tokenize\n",
    "\n",
    "RussiaWords = word_tokenize(RussiaText)"
   ]
  },
  {
   "cell_type": "code",
   "execution_count": 15,
   "id": "98567926-186d-4b5f-a6ef-00b13e65d000",
   "metadata": {},
   "outputs": [],
   "source": [
    "RussiaWords = [w.lower() for w in RussiaWords]"
   ]
  },
  {
   "cell_type": "code",
   "execution_count": 16,
   "id": "b121299f-510f-4b40-bc30-443ee43baac9",
   "metadata": {},
   "outputs": [],
   "source": [
    "RussiaWords = [w for w in RussiaWords if w.isalnum()]"
   ]
  },
  {
   "cell_type": "code",
   "execution_count": 17,
   "id": "a2284fec-f829-43fe-ba07-54123ac1b9f7",
   "metadata": {},
   "outputs": [],
   "source": [
    "from nltk.corpus import stopwords\n",
    "english_stopwords = set(stopwords.words(\"english\"))"
   ]
  },
  {
   "cell_type": "code",
   "execution_count": 18,
   "id": "6957ebdf-c61f-4833-ab32-53e2484e4a05",
   "metadata": {},
   "outputs": [],
   "source": [
    "RussiaWords = [w for w in RussiaWords if not w in english_stopwords]"
   ]
  },
  {
   "cell_type": "code",
   "execution_count": 19,
   "id": "e31dc3aa-0b39-4d2f-a0e1-fee0ea1ba8f6",
   "metadata": {},
   "outputs": [],
   "source": [
    "RussiaWords = [w for w in RussiaWords if len(w)>2]"
   ]
  },
  {
   "cell_type": "code",
   "execution_count": 20,
   "id": "a36b5e2b-31ab-4bd3-8598-ef73245d5e73",
   "metadata": {},
   "outputs": [],
   "source": [
    "from nltk.probability import FreqDist\n",
    "wordfreq = FreqDist(RussiaWords)"
   ]
  },
  {
   "cell_type": "code",
   "execution_count": 21,
   "id": "13601c8e-c60b-4bdf-94a0-d36f8907fc99",
   "metadata": {},
   "outputs": [
    {
     "data": {
      "text/plain": [
       "[('russia', 482),\n",
       " ('retrieved', 388),\n",
       " ('russian', 329),\n",
       " ('world', 138),\n",
       " ('original', 136),\n",
       " ('march', 129),\n",
       " ('january', 128),\n",
       " ('soviet', 110),\n",
       " ('war', 108),\n",
       " ('april', 98),\n",
       " ('may', 96),\n",
       " ('june', 95),\n",
       " ('july', 88),\n",
       " ('press', 77),\n",
       " ('history', 75),\n",
       " ('february', 74),\n",
       " ('august', 70),\n",
       " ('cid', 69),\n",
       " ('university', 68),\n",
       " ('country', 67)]"
      ]
     },
     "execution_count": 21,
     "metadata": {},
     "output_type": "execute_result"
    }
   ],
   "source": [
    "wordfreq. most_common(20)"
   ]
  },
  {
   "cell_type": "code",
   "execution_count": 22,
   "id": "ef2813f9-3546-40c5-9edd-0cc9e102155b",
   "metadata": {},
   "outputs": [],
   "source": [
    "from wordcloud import WordCloud"
   ]
  },
  {
   "cell_type": "code",
   "execution_count": 23,
   "id": "28dfd246-41fe-43e8-b303-12407e0c34cf",
   "metadata": {},
   "outputs": [],
   "source": [
    "Russia_Words = (\"\").join(RussiaWords)"
   ]
  },
  {
   "cell_type": "code",
   "execution_count": 88,
   "id": "d700857c-10e0-472e-be2f-0a38092a5824",
   "metadata": {},
   "outputs": [],
   "source": [
    "# wordcloud = WordCloud(width = 1000, height = 500, stopwords = \"english_stopwords\",max_words=100, colormap=\"plasma\", collocations=False).generate(str(Russia_Words))"
   ]
  },
  {
   "cell_type": "code",
   "execution_count": 90,
   "id": "58e6968f-a0ed-4908-addf-a674ddb86ba9",
   "metadata": {},
   "outputs": [],
   "source": [
    "# plt.figure(figsize=(20,10))\n",
    "# plt.imshow(wordcloud)\n",
    "# plt.show()"
   ]
  },
  {
   "cell_type": "code",
   "execution_count": 26,
   "id": "5100fc35-5906-485c-bc6d-9e26676379b1",
   "metadata": {},
   "outputs": [
    {
     "data": {
      "text/html": [
       "<div>\n",
       "<style scoped>\n",
       "    .dataframe tbody tr th:only-of-type {\n",
       "        vertical-align: middle;\n",
       "    }\n",
       "\n",
       "    .dataframe tbody tr th {\n",
       "        vertical-align: top;\n",
       "    }\n",
       "\n",
       "    .dataframe thead th {\n",
       "        text-align: right;\n",
       "    }\n",
       "</style>\n",
       "<table border=\"1\" class=\"dataframe\">\n",
       "  <thead>\n",
       "    <tr style=\"text-align: right;\">\n",
       "      <th></th>\n",
       "      <th>sentence</th>\n",
       "      <th>sentiment</th>\n",
       "    </tr>\n",
       "  </thead>\n",
       "  <tbody>\n",
       "    <tr>\n",
       "      <th>0</th>\n",
       "      <td>Russia - WikipediaJump to contentMain menuMain...</td>\n",
       "      <td>Neutral</td>\n",
       "    </tr>\n",
       "    <tr>\n",
       "      <th>1</th>\n",
       "      <td>Early history .</td>\n",
       "      <td>Positive</td>\n",
       "    </tr>\n",
       "    <tr>\n",
       "      <th>2</th>\n",
       "      <td>Kievan Rus' .</td>\n",
       "      <td>Neutral</td>\n",
       "    </tr>\n",
       "    <tr>\n",
       "      <th>3</th>\n",
       "      <td>Grand Principality of Moscow .</td>\n",
       "      <td>Positive</td>\n",
       "    </tr>\n",
       "    <tr>\n",
       "      <th>4</th>\n",
       "      <td>Tsardom of Russia .</td>\n",
       "      <td>Neutral</td>\n",
       "    </tr>\n",
       "    <tr>\n",
       "      <th>...</th>\n",
       "      <td>...</td>\n",
       "      <td>...</td>\n",
       "    </tr>\n",
       "    <tr>\n",
       "      <th>2758</th>\n",
       "      <td>Oceanic islandswithin the vicinity of Europe a...</td>\n",
       "      <td>Negative</td>\n",
       "    </tr>\n",
       "    <tr>\n",
       "      <th>2759</th>\n",
       "      <td>Governed by theHoly Seewhich has sovereignty o...</td>\n",
       "      <td>Positive</td>\n",
       "    </tr>\n",
       "    <tr>\n",
       "      <th>2760</th>\n",
       "      <td>License;\\nadditional terms may apply.</td>\n",
       "      <td>Neutral</td>\n",
       "    </tr>\n",
       "    <tr>\n",
       "      <th>2761</th>\n",
       "      <td>By using this site, you agree to theTerms of U...</td>\n",
       "      <td>Neutral</td>\n",
       "    </tr>\n",
       "    <tr>\n",
       "      <th>2762</th>\n",
       "      <td>Wikipedia® is a registered trademark of theWik...</td>\n",
       "      <td>Neutral</td>\n",
       "    </tr>\n",
       "  </tbody>\n",
       "</table>\n",
       "<p>2763 rows × 2 columns</p>\n",
       "</div>"
      ],
      "text/plain": [
       "                                               sentence sentiment\n",
       "0     Russia - WikipediaJump to contentMain menuMain...   Neutral\n",
       "1                                       Early history .  Positive\n",
       "2                                         Kievan Rus' .   Neutral\n",
       "3                        Grand Principality of Moscow .  Positive\n",
       "4                                   Tsardom of Russia .   Neutral\n",
       "...                                                 ...       ...\n",
       "2758  Oceanic islandswithin the vicinity of Europe a...  Negative\n",
       "2759  Governed by theHoly Seewhich has sovereignty o...  Positive\n",
       "2760              License;\\nadditional terms may apply.   Neutral\n",
       "2761  By using this site, you agree to theTerms of U...   Neutral\n",
       "2762  Wikipedia® is a registered trademark of theWik...   Neutral\n",
       "\n",
       "[2763 rows x 2 columns]"
      ]
     },
     "execution_count": 26,
     "metadata": {},
     "output_type": "execute_result"
    }
   ],
   "source": [
    "RussiaSentences"
   ]
  },
  {
   "cell_type": "code",
   "execution_count": 27,
   "id": "c3c7c5ca-8631-4993-b058-765f42808407",
   "metadata": {},
   "outputs": [],
   "source": [
    "RussiaSentences = RussiaSentences[RussiaSentences[\"sentiment\"] != \"Neutral\"]"
   ]
  },
  {
   "cell_type": "code",
   "execution_count": 28,
   "id": "9de03a19-622f-4dc1-bb8d-e71ecc0a639a",
   "metadata": {},
   "outputs": [
    {
     "name": "stderr",
     "output_type": "stream",
     "text": [
      "C:\\Users\\hi\\AppData\\Local\\Temp\\ipykernel_14116\\1804996558.py:1: SettingWithCopyWarning: \n",
      "A value is trying to be set on a copy of a slice from a DataFrame.\n",
      "Try using .loc[row_indexer,col_indexer] = value instead\n",
      "\n",
      "See the caveats in the documentation: https://pandas.pydata.org/pandas-docs/stable/user_guide/indexing.html#returning-a-view-versus-a-copy\n",
      "  RussiaSentences[\"sentiment\"] = RussiaSentences[\"sentiment\"].map({\"Negative\": 0, \"Positive\": 1})\n"
     ]
    }
   ],
   "source": [
    "RussiaSentences[\"sentiment\"] = RussiaSentences[\"sentiment\"].map({\"Negative\": 0, \"Positive\": 1})"
   ]
  },
  {
   "cell_type": "code",
   "execution_count": 29,
   "id": "02e3e492-3373-40da-960e-752bfc7e3f1e",
   "metadata": {},
   "outputs": [],
   "source": [
    "from sklearn.model_selection import train_test_split\n",
    "from sklearn.feature_extraction.text import TfidfVectorizer"
   ]
  },
  {
   "cell_type": "code",
   "execution_count": 30,
   "id": "168fc3ae-f3e5-4fd7-94db-9fc6911707d5",
   "metadata": {},
   "outputs": [],
   "source": [
    "X_train, X_test, y_train, y_test = train_test_split(\n",
    "    RussiaSentences[\"sentence\"], RussiaSentences[\"sentiment\"], \n",
    "    test_size=0.20, random_state=42\n",
    ")"
   ]
  },
  {
   "cell_type": "code",
   "execution_count": 31,
   "id": "3d15bc96-28da-4376-ad62-056f7bacb1a7",
   "metadata": {},
   "outputs": [],
   "source": [
    "from sklearn.linear_model import LogisticRegression\n",
    "from sklearn.metrics import accuracy_score, classification_report\n",
    "from imblearn.over_sampling import SMOTE"
   ]
  },
  {
   "cell_type": "code",
   "execution_count": 32,
   "id": "58517f83-c830-4e38-a8d9-e0ac6e41541c",
   "metadata": {},
   "outputs": [],
   "source": [
    "tfidf = TfidfVectorizer(max_features=1000, stop_words=\"english\", ngram_range=(1,1))\n",
    "X_train_tfidf = tfidf.fit_transform(X_train)  \n",
    "X_test_tfidf = tfidf.transform(X_test)  "
   ]
  },
  {
   "cell_type": "code",
   "execution_count": 33,
   "id": "df996a0f-49cd-49e9-a337-f5733cfff4d2",
   "metadata": {},
   "outputs": [],
   "source": [
    "smote = SMOTE(random_state=42)\n",
    "X_train_resampled, y_train_resampled = smote.fit_resample(X_train_tfidf, y_train)"
   ]
  },
  {
   "cell_type": "code",
   "execution_count": 34,
   "id": "a10d3fb4-cbed-491f-a853-887a78b6ffdd",
   "metadata": {},
   "outputs": [
    {
     "name": "stdout",
     "output_type": "stream",
     "text": [
      "Logistic Regression Accuracy: 0.8148148148148148\n",
      "Classification Report:\n",
      "               precision    recall  f1-score   support\n",
      "\n",
      "           0       0.62      0.62      0.62        40\n",
      "           1       0.88      0.88      0.88       122\n",
      "\n",
      "    accuracy                           0.81       162\n",
      "   macro avg       0.75      0.75      0.75       162\n",
      "weighted avg       0.81      0.81      0.81       162\n",
      "\n"
     ]
    }
   ],
   "source": [
    "lr = LogisticRegression(max_iter=1000)\n",
    "lr.fit(X_train_resampled, y_train_resampled)  # Train on resampled data\n",
    "y_pred_lr = lr.predict(X_test_tfidf)  # Use test data (no resampling!)\n",
    "\n",
    "print(\"Logistic Regression Accuracy:\", accuracy_score(y_test, y_pred_lr))\n",
    "print(\"Classification Report:\\n\", classification_report(y_test, y_pred_lr))"
   ]
  },
  {
   "cell_type": "code",
   "execution_count": 35,
   "id": "7f0aea5c-cfd4-4aac-bc83-cda8c307e51f",
   "metadata": {},
   "outputs": [],
   "source": [
    "from sklearn.tree import DecisionTreeClassifier\n",
    "from sklearn.ensemble import RandomForestClassifier, GradientBoostingClassifier\n",
    "from sklearn.naive_bayes import GaussianNB\n",
    "from sklearn.neighbors import KNeighborsClassifier"
   ]
  },
  {
   "cell_type": "code",
   "execution_count": 36,
   "id": "1def9a11-93de-4846-b0f6-cba669f4a8a8",
   "metadata": {},
   "outputs": [
    {
     "name": "stdout",
     "output_type": "stream",
     "text": [
      "Decision Tree Accuracy: 0.7839506172839507\n",
      "Classification Report:\n",
      "               precision    recall  f1-score   support\n",
      "\n",
      "           0       0.73      0.20      0.31        40\n",
      "           1       0.79      0.98      0.87       122\n",
      "\n",
      "    accuracy                           0.78       162\n",
      "   macro avg       0.76      0.59      0.59       162\n",
      "weighted avg       0.77      0.78      0.73       162\n",
      "\n"
     ]
    }
   ],
   "source": [
    "dt = DecisionTreeClassifier(max_depth=9,splitter=\"best\")\n",
    "dt.fit(X_train_resampled, y_train_resampled)\n",
    "y_pred_dt = dt.predict(X_test_tfidf)\n",
    "print(\"Decision Tree Accuracy:\", accuracy_score(y_test, y_pred_dt))\n",
    "print(\"Classification Report:\\n\", classification_report(y_test, y_pred_dt))"
   ]
  },
  {
   "cell_type": "code",
   "execution_count": 37,
   "id": "d9847ed4-cb90-4e17-902e-ecd7c4050ba8",
   "metadata": {},
   "outputs": [
    {
     "name": "stdout",
     "output_type": "stream",
     "text": [
      "Random Forest Accuracy: 0.8518518518518519\n",
      "Classification Report:\n",
      "               precision    recall  f1-score   support\n",
      "\n",
      "           0       0.86      0.47      0.61        40\n",
      "           1       0.85      0.98      0.91       122\n",
      "\n",
      "    accuracy                           0.85       162\n",
      "   macro avg       0.86      0.73      0.76       162\n",
      "weighted avg       0.85      0.85      0.84       162\n",
      "\n"
     ]
    }
   ],
   "source": [
    "rf = RandomForestClassifier()\n",
    "rf.fit(X_train_resampled, y_train_resampled)\n",
    "y_pred_rf = rf.predict(X_test_tfidf)\n",
    "print(\"Random Forest Accuracy:\", accuracy_score(y_test, y_pred_rf))\n",
    "print(\"Classification Report:\\n\", classification_report(y_test, y_pred_rf))"
   ]
  },
  {
   "cell_type": "code",
   "execution_count": 38,
   "id": "f19d2dff-bdc5-4586-8ac9-7d5e68f86934",
   "metadata": {},
   "outputs": [
    {
     "name": "stdout",
     "output_type": "stream",
     "text": [
      "Gradient Boosting Accuracy: 0.8271604938271605\n",
      "Classification Report:\n",
      "               precision    recall  f1-score   support\n",
      "\n",
      "           0       0.70      0.53      0.60        40\n",
      "           1       0.86      0.93      0.89       122\n",
      "\n",
      "    accuracy                           0.83       162\n",
      "   macro avg       0.78      0.73      0.74       162\n",
      "weighted avg       0.82      0.83      0.82       162\n",
      "\n"
     ]
    }
   ],
   "source": [
    "gb = GradientBoostingClassifier()\n",
    "gb.fit(X_train_resampled, y_train_resampled)\n",
    "y_pred_gb = gb.predict(X_test_tfidf)\n",
    "print(\"Gradient Boosting Accuracy:\", accuracy_score(y_test, y_pred_gb))\n",
    "print(\"Classification Report:\\n\", classification_report(y_test, y_pred_gb))"
   ]
  },
  {
   "cell_type": "code",
   "execution_count": 39,
   "id": "d447c2bf-93e9-447d-8b19-8fe34b9d9da7",
   "metadata": {},
   "outputs": [
    {
     "name": "stdout",
     "output_type": "stream",
     "text": [
      "KNN Accuracy: 0.7283950617283951\n",
      "Classification Report:\n",
      "               precision    recall  f1-score   support\n",
      "\n",
      "           0       0.40      0.20      0.27        40\n",
      "           1       0.77      0.90      0.83       122\n",
      "\n",
      "    accuracy                           0.73       162\n",
      "   macro avg       0.59      0.55      0.55       162\n",
      "weighted avg       0.68      0.73      0.69       162\n",
      "\n"
     ]
    }
   ],
   "source": [
    "knn = KNeighborsClassifier(n_neighbors=1)\n",
    "knn.fit(X_train_resampled, y_train_resampled)\n",
    "y_pred_knn = knn.predict(X_test_tfidf)\n",
    "print(\"KNN Accuracy:\", accuracy_score(y_test, y_pred_knn))\n",
    "print(\"Classification Report:\\n\", classification_report(y_test, y_pred_knn))"
   ]
  },
  {
   "cell_type": "code",
   "execution_count": 40,
   "id": "a99fd820-6991-4ecf-a85a-929c3e235a85",
   "metadata": {},
   "outputs": [
    {
     "name": "stdout",
     "output_type": "stream",
     "text": [
      "TF-IDF Vectorizer & Sentiment Model saved successfully!\n"
     ]
    }
   ],
   "source": [
    "import pickle\n",
    "\n",
    "# ✅ Save the trained TF-IDF vectorizer\n",
    "with open(\"tfidf_vectorizer.pkl\", \"wb\") as f:\n",
    "    pickle.dump(tfidf, f)\n",
    "\n",
    "# ✅ Save the best trained model (Logistic Regression)\n",
    "with open(\"sentiment_model.pkl\", \"wb\") as f:\n",
    "    pickle.dump(rf, f)\n",
    "\n",
    "print(\"TF-IDF Vectorizer & Sentiment Model saved successfully!\")"
   ]
  },
  {
   "cell_type": "code",
   "execution_count": null,
   "id": "1a7264d9-11b3-4f91-abf6-d26bf99a97aa",
   "metadata": {},
   "outputs": [],
   "source": []
  }
 ],
 "metadata": {
  "kernelspec": {
   "display_name": "Python [conda env:base] *",
   "language": "python",
   "name": "conda-base-py"
  },
  "language_info": {
   "codemirror_mode": {
    "name": "ipython",
    "version": 3
   },
   "file_extension": ".py",
   "mimetype": "text/x-python",
   "name": "python",
   "nbconvert_exporter": "python",
   "pygments_lexer": "ipython3",
   "version": "3.10.16"
  }
 },
 "nbformat": 4,
 "nbformat_minor": 5
}
